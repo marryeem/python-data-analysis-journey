{
  "nbformat": 4,
  "nbformat_minor": 0,
  "metadata": {
    "colab": {
      "provenance": [],
      "authorship_tag": "ABX9TyO8GDQ3DVY3wzA6HpJr6nrs",
      "include_colab_link": true
    },
    "kernelspec": {
      "name": "python3",
      "display_name": "Python 3"
    },
    "language_info": {
      "name": "python"
    }
  },
  "cells": [
    {
      "cell_type": "markdown",
      "metadata": {
        "id": "view-in-github",
        "colab_type": "text"
      },
      "source": [
        "<a href=\"https://colab.research.google.com/github/marryeem/python-data-analysis-journey/blob/main/week-1-basic-project.ipynb\" target=\"_parent\"><img src=\"https://colab.research.google.com/assets/colab-badge.svg\" alt=\"Open In Colab\"/></a>"
      ]
    },
    {
      "cell_type": "code",
      "source": [
        "from datetime import datetime\n",
        "\n",
        "people = []\n",
        "\n",
        "while True:\n",
        "    entry = input(\"Enter name and birth date (e.g., Khalid, 1-2-1989) or type 'exit' to finish: \")\n",
        "    if entry.lower() == 'exit':\n",
        "        break\n",
        "\n",
        "    try:\n",
        "        # Split name and date\n",
        "        name, date_str = entry.split(',')\n",
        "        name = name.strip()\n",
        "        date_str = date_str.strip()\n",
        "\n",
        "        # Convert to datetime\n",
        "        dob = datetime.strptime(date_str, \"%d-%m-%Y\")\n",
        "        today = datetime.today()\n",
        "\n",
        "        # Calculate age\n",
        "        age = today.year - dob.year\n",
        "        if (today.month, today.day) < (dob.month, dob.day):\n",
        "            age -= 1\n",
        "\n",
        "        # Get weekday name\n",
        "        weekday = dob.strftime('%A')\n",
        "\n",
        "        # Print result\n",
        "        print(f\"{name} is {age} years old and was born on {weekday}\")\n",
        "\n",
        "        # Store data\n",
        "        person = {\n",
        "            \"name\": name,\n",
        "            \"dob\": dob,\n",
        "            \"age\": age,\n",
        "            \"weekday\": weekday,\n",
        "            \"raw_input\": entry  # Save raw input for reversed printing\n",
        "        }\n",
        "\n",
        "        people.append(person)\n",
        "\n",
        "    except Exception:\n",
        "        print(f\"❌ Invalid date for: {entry}\")\n",
        "        continue\n",
        "\n",
        "# === After input ends ===\n",
        "\n",
        "print(\"\\n📋 Summary of registered people:\")\n",
        "\n",
        "# Print each person's info\n",
        "for person in people:\n",
        "    print(f\"{person['name']} is {person['age']} years old and was born on {person['weekday']}\")\n",
        "\n",
        "# Print oldest, youngest, or default message\n",
        "if len(people) == 1:\n",
        "    print(\"There is no oldest or youngest person.\")\n",
        "elif len(people) > 1:\n",
        "    sorted_people = sorted(people, key=lambda p: p[\"age\"], reverse=True)\n",
        "    print(f\"The oldest one is {sorted_people[0]['name']}\")\n",
        "    print(f\"The youngest one is {sorted_people[-1]['name']}\")\n",
        "\n",
        "print(f\"Total People: {len(people)}\")\n",
        "\n",
        "# === Extra Tasks ===\n",
        "\n",
        "# 1. Sort from oldest to youngest\n",
        "print(\"\\n📌 People sorted from oldest to youngest:\")\n",
        "for person in sorted(people, key=lambda p: p[\"age\"], reverse=True):\n",
        "    print(f\"{person['name']} ({person['age']} years old)\")\n",
        "\n",
        "# 2. Print reversed input\n",
        "print(\"\\n🔁 Reversed input entries:\")\n",
        "for person in reversed(people):\n",
        "    print(person[\"raw_input\"])\n",
        "\n",
        "# 3. People born on Sunday\n",
        "print(\"\\n☀️ People born on Sunday:\")\n",
        "sundays = [p for p in people if p[\"weekday\"] == \"Sunday\"]\n",
        "if sundays:\n",
        "    for person in sundays:\n",
        "        print(person[\"name\"])\n",
        "else:\n",
        "    print(\"No one was born on Sunday.\")\n"
      ],
      "metadata": {
        "id": "a49JQWZlKCEQ"
      },
      "execution_count": null,
      "outputs": []
    }
  ]
}
